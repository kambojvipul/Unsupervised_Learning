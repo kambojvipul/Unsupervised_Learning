{
 "cells": [
  {
   "cell_type": "markdown",
   "metadata": {},
   "source": [
    "Assignment 1 Part - 3.1 using KMeans From Scratch"
   ]
  },
  {
   "cell_type": "code",
   "execution_count": 1,
   "metadata": {},
   "outputs": [
    {
     "name": "stdout",
     "output_type": "stream",
     "text": [
      "INFO:tensorflow:Enabling eager execution\n",
      "INFO:tensorflow:Enabling v2 tensorshape\n",
      "INFO:tensorflow:Enabling resource variables\n",
      "INFO:tensorflow:Enabling tensor equality\n",
      "INFO:tensorflow:Enabling control flow v2\n"
     ]
    }
   ],
   "source": [
    "#Download All Necessary Python Package required for K Means Clustering\n",
    "import numpy as np\n",
    "\n",
    "import matplotlib.pyplot as plt\n",
    "import tensorflow as tf\n",
    "from tensorflow.keras.datasets import mnist\n",
    "\n",
    "import matplotlib.cm as cm"
   ]
  },
  {
   "cell_type": "code",
   "execution_count": 2,
   "metadata": {},
   "outputs": [],
   "source": [
    "#Load MNIST data from tensorflow datasets\n",
    "(x, _), (_, _) = mnist.load_data()"
   ]
  },
  {
   "cell_type": "code",
   "execution_count": 3,
   "metadata": {},
   "outputs": [
    {
     "data": {
      "text/plain": [
       "<matplotlib.image.AxesImage at 0x14e867a50>"
      ]
     },
     "execution_count": 3,
     "metadata": {},
     "output_type": "execute_result"
    },
    {
     "data": {
      "image/png": "[encoded data removed]",
      "text/plain": [
       "<Figure size 432x288 with 1 Axes>"
      ]
     },
     "metadata": {
      "needs_background": "light"
     },
     "output_type": "display_data"
    }
   ],
   "source": [
    "#Visualize One Image only\n",
    "plt.imshow(x[0,:,:],cmap=plt.cm.gray)"
   ]
  },
  {
   "cell_type": "code",
   "execution_count": 4,
   "metadata": {},
   "outputs": [
    {
     "name": "stdout",
     "output_type": "stream",
     "text": [
      "Training:  (60000, 28, 28)\n",
      "Type of Data: <class 'numpy.ndarray'>\n"
     ]
    }
   ],
   "source": [
    "# Print shape of dataset\n",
    "print(\"Training: \",x.shape)\n",
    "# Print type of Data\n",
    "print(\"Type of Data:\", type(x))"
   ]
  },
  {
   "cell_type": "code",
   "execution_count": 5,
   "metadata": {},
   "outputs": [
    {
     "name": "stdout",
     "output_type": "stream",
     "text": [
      "(60000, 784)\n"
     ]
    }
   ],
   "source": [
    "# Reshape the dataset from (60000, 28, 28) to (60000, 746)\n",
    "x=x.reshape(60000,28*28)\n",
    "print(x.shape)"
   ]
  },
  {
   "cell_type": "code",
   "execution_count": 6,
   "metadata": {},
   "outputs": [],
   "source": [
    "#Normalize Image Pixel value by dividing 255. So variance would be between 0.0 to 1.0\n",
    "x = x.astype(np.float32) / 255."
   ]
  },
  {
   "cell_type": "code",
   "execution_count": 7,
   "metadata": {},
   "outputs": [
    {
     "name": "stdout",
     "output_type": "stream",
     "text": [
      "1.0\n"
     ]
    }
   ],
   "source": [
    "#Checking Maximum Vale\n",
    "print(np.amax(x[0,:]))"
   ]
  },
  {
   "cell_type": "code",
   "execution_count": 8,
   "metadata": {},
   "outputs": [],
   "source": [
    "# Took only 30000 images out of 60000 as my laptop is not able to run on 60000, taking infinite time and heating\n",
    "z = x[0:30000,:]"
   ]
  },
  {
   "cell_type": "code",
   "execution_count": 11,
   "metadata": {},
   "outputs": [],
   "source": [
    "# KMean Clustering Code From Scratch\n",
    "\n",
    "import numpy as np\n",
    "import matplotlib.pyplot as plt\n",
    "''''Initialize the Class of KMeans Clustering with number of clusters, \n",
    "    cluster center initialization and maximum iterations for optimization'''\n",
    "class KMeans: \n",
    "    def __init__(self, n_clusters=5,init = \"random\", max_iter=100, plot_steps=False):\n",
    "        self.n_clusters = n_clusters # number of clusters\n",
    "        self.max_iter = max_iter # maximum iteration for optimization\n",
    "        self.plot_steps = plot_steps # Plot \n",
    "        self.init = init # cluster centre initialization\n",
    "        # Create Empty List of Clusters\n",
    "        self.clusters = [[] for _ in range(self.n_clusters)]\n",
    "        # Create Emplty List of Centroids\n",
    "        self.centroids = []\n",
    "            \n",
    "    \n",
    "    def fit(self, x):\n",
    "        self.x = x\n",
    "        #Get Number of samples and Number of Features in Input Data\n",
    "        self.n_samples, self.n_features = x.shape\n",
    "        \n",
    "        if (self.init == \"random\"): #Initialize centroids randomly\n",
    "            random_idx = np.random.choice(self.n_samples, self.n_clusters, replace=False)\n",
    "            self.centroids = [self.x[idx] for idx in random_idx]\n",
    "        else:\n",
    "            self.centroids = self.init #Initialize with given centroids\n",
    "        \n",
    "        #optimization for given iteration or till convergance whichever is earlier\n",
    "        for _ in range(self.max_iter):\n",
    "            # update clusters after creation of new clusters during optimization\n",
    "            self.clusters = self._create_clusters(self.centroids)\n",
    "            if(self.plot_steps):\n",
    "                self.plot()\n",
    "            # update centroids after creation of new clusters during optimization\n",
    "            centroids_old = self.centroids\n",
    "            self.centroids = self._get_centroids(self.clusters)\n",
    "            self.cluster_centers_ = self.centroids\n",
    "            if(self.plot_steps):\n",
    "                self.plot()\n",
    "            # check convergence after checking previous centroids and new ones are same or not\n",
    "            if self._is_converged(centroids_old, self.centroids):\n",
    "                break\n",
    "            \n",
    "        #At the end convergence, calculate/ predict the labels and J_clust/Inertia as output\n",
    "        self.labels_ = self._get_cluster_labels(self.clusters)\n",
    "        self.inertia_ = self._get_inertia_J_clust(self.clusters, self.centroids)\n",
    "        \n",
    "    # Predict with labels  \n",
    "    def predict(self, x):\n",
    "        self.fit(x)\n",
    "        return self.labels_\n",
    "    \n",
    "    #Calculate centroids id or labels for each datapoint of Input Data Vector x\n",
    "    def _get_cluster_labels(self, clusters):\n",
    "        #Create Empty Labels of size of Total Number of Input Data\n",
    "        labels = np.empty(self.n_samples)\n",
    "        for cluster_idx, cluster in enumerate(clusters):\n",
    "            for sample_idx in cluster: \n",
    "                labels[sample_idx] = cluster_idx\n",
    "        return labels\n",
    "    \n",
    "    # Creation of clusters after making bunches of nearest neighbours \n",
    "    def _create_clusters(self, centroids):\n",
    "        clusters = [[] for _ in range(self.n_clusters)]\n",
    "        # Associate each sample in x with clusters\n",
    "        for idx , sample in enumerate(self.x):\n",
    "            centroids_idx = self._closest_centroid(sample, centroids)\n",
    "            clusters[centroids_idx].append(idx)\n",
    "        return clusters\n",
    "    \n",
    "    #Find Nearest Centroids / Cluster Center using using euclidean_distance\n",
    "    def _closest_centroid(self, sample, centroids):\n",
    "        distances = [self.euclidean_distance(sample, point) for point in centroids]     \n",
    "        closest_idx = np.argmin(distances)\n",
    "        return closest_idx\n",
    "    \n",
    "    #After creation of clusters, calculate the Cluster center/ Centroids using mean of cluster\n",
    "    def _get_centroids(self, clusters):\n",
    "        centroids = np.zeros((self.n_clusters, self.n_features))\n",
    "        for clusters_idx, cluster in enumerate(clusters):\n",
    "            cluster_mean = np.mean(self.x[cluster], axis=0)\n",
    "            centroids[clusters_idx] = cluster_mean\n",
    "        return centroids\n",
    "    \n",
    "    # Check convergence after match previous and new centroids \n",
    "    def _is_converged(self, centroids_old, centroids):\n",
    "        distances = [self.euclidean_distance(centroids_old[i],centroids[i]) for i in range(self.n_clusters)]\n",
    "        return sum(distances)==0\n",
    "    \n",
    "    #Calculate euclidean_distance between two data vector\n",
    "    def euclidean_distance(self,x1,x2):\n",
    "        return np.sqrt(np.sum((x1-x2)**2))\n",
    "    \n",
    "    # Calculate J_clust or inertia of total clusters\n",
    "    def _get_inertia_J_clust(self, clusters, centroids):\n",
    "        sum_distances = [np.sum((self.x[clusters[i]]-centroids[i])**2) for i in range(self.n_clusters)]\n",
    "        return (np.sum(sum_distances))/self.n_samples\n",
    "        \n",
    "    #Plotting of Scatter of data point of Input Data Vector with centroid, \n",
    "    #only applicable for Two dimesional Feature\n",
    "    def plot(self):\n",
    "        fig, ax = plt.subplots(figsize=(12,8))\n",
    "        \n",
    "        for i , index in enumerate(self.clusters):\n",
    "            point = self.x[index].T\n",
    "            ax.scatter(*point)\n",
    "            \n",
    "        for point in self.centroids:\n",
    "            ax.scatter(*point, marker='x',color='black',linewidth=2)\n",
    "        plt.show()\n",
    "        "
   ]
  },
  {
   "cell_type": "code",
   "execution_count": 13,
   "metadata": {},
   "outputs": [
    {
     "name": "stderr",
     "output_type": "stream",
     "text": [
      "/opt/anaconda3/lib/python3.7/site-packages/ipykernel_launcher.py:24: FutureWarning: elementwise comparison failed; returning scalar instead, but in the future will perform elementwise comparison\n"
     ]
    },
    {
     "name": "stdout",
     "output_type": "stream",
     "text": [
      "Number of Cluster : 2\n",
      "J_clust / Inertia : 49.56271220556302\n",
      "Number of Cluster : 3\n",
      "J_clust / Inertia : 47.09580955561578\n",
      "Number of Cluster : 4\n",
      "J_clust / Inertia : 45.33681012201919\n",
      "Number of Cluster : 5\n",
      "J_clust / Inertia : 43.57996494299672\n",
      "Number of Cluster : 6\n",
      "J_clust / Inertia : 42.36632782066298\n",
      "Number of Cluster : 7\n",
      "J_clust / Inertia : 41.50582225516873\n",
      "Number of Cluster : 8\n",
      "J_clust / Inertia : 40.73995135768735\n",
      "Number of Cluster : 9\n",
      "J_clust / Inertia : 40.12948880224944\n",
      "Number of Cluster : 10\n",
      "J_clust / Inertia : 39.38331786785697\n",
      "Number of Cluster : 11\n",
      "J_clust / Inertia : 38.84545095577977\n",
      "Number of Cluster : 12\n",
      "J_clust / Inertia : 38.71608625014845\n",
      "Number of Cluster : 13\n",
      "J_clust / Inertia : 37.96237298080031\n",
      "Number of Cluster : 14\n",
      "J_clust / Inertia : 37.445387348894116\n",
      "Number of Cluster : 15\n",
      "J_clust / Inertia : 36.88754000941515\n",
      "Number of Cluster : 16\n",
      "J_clust / Inertia : 36.507052234213106\n",
      "Number of Cluster : 17\n",
      "J_clust / Inertia : 36.164642188623176\n",
      "Number of Cluster : 18\n",
      "J_clust / Inertia : 36.00851100411944\n",
      "Number of Cluster : 19\n",
      "J_clust / Inertia : 35.539204460045305\n"
     ]
    }
   ],
   "source": [
    "# Now implement K means clustering on MNIST Datasets for range of cluster from 2 to 30\n",
    "k_max = 20 # Maximum value of Clusters\n",
    "k_init = 2 # Minimum Value of Clusters\n",
    "\n",
    "inertia_list = [] # List of J_clust for each number of clusters \n",
    "centroids_list = [] # List of K Nos. Centroids for each number of clusters\n",
    "clusters_labels_list = [] \n",
    "y_predict_list = [] # List of group assignment indices for each number of clusters\n",
    "\n",
    "for i in range(k_init, k_max): # iterate over range of clusters and save results in lists\n",
    "    # Initialize the Random Clusters from MNIST Datasets\n",
    "    random_indices = np.random.randint(low=0, high=z.shape[0], size=i, dtype=int)\n",
    "    clusters_init = z[random_indices]\n",
    "    \n",
    "    #Pass the Parameters in Kmeans Clustering\n",
    "    kmeans = KMeans(n_clusters=i,init=clusters_init ,max_iter=100)\n",
    "    kmeans.fit(z) # Run the K-means clustering on Mnist Dataset\n",
    "    \n",
    "    y_predict_list.append(kmeans.labels_) # Predcitions of Labels\n",
    "    # Calculte the J_Cluster / Composite Squared Distance between data points and centroids for all data vectors\n",
    "    inertia = kmeans.inertia_ \n",
    "    inertia_list.append(inertia) # Appned the J_Clust of this clusters in List\n",
    "    # Calculate and save Clusters Centroid in list\n",
    "    centroids = kmeans.cluster_centers_\n",
    "    centroids_list.append(centroids) \n",
    "\n",
    "    print(\"Number of Cluster :\",i)\n",
    "    print(\"J_clust / Inertia :\",inertia)"
   ]
  },
  {
   "cell_type": "code",
   "execution_count": 14,
   "metadata": {
    "scrolled": true
   },
   "outputs": [
    {
     "data": {
      "image/png": "[encoded data removed]",
      "text/plain": [
       "<Figure size 1296x504 with 1 Axes>"
      ]
     },
     "metadata": {
      "needs_background": "light"
     },
     "output_type": "display_data"
    }
   ],
   "source": [
    "# Now plot the J_Clust / Inertia which a composite squared distance between datapoints and centroids\n",
    "fig, ax1 = plt.subplots(1, 1)\n",
    "fig.set_size_inches(18, 7)\n",
    "plt.plot(range(k_init, k_max), inertia_list)\n",
    "plt.title('Elbow Method')\n",
    "plt.xlabel('Number of clusters')\n",
    "plt.ylabel('J_clust / Inertia')\n",
    "xaxis=np.arange(k_init, k_max, 1, dtype=int)\n",
    "ax1.set_xticks(xaxis)\n",
    "plt.show()"
   ]
  },
  {
   "cell_type": "code",
   "execution_count": 15,
   "metadata": {},
   "outputs": [
    {
     "name": "stdout",
     "output_type": "stream",
     "text": [
      "Group_Assignment_Indices for Clusters K = 10:\n",
      "Length of Predictions : 30000\n",
      "[ 7.  5.  3. 11.  8.  6. 11.  7. 11.  8.  7. 11. 10.  0. 11.  8.  6.  2.\n",
      "  0.  8.  3.  5.  8. 11.  0.  9.  3.  7. 10. 11. 10.  2.  0.  8.  5. 11.\n",
      "  0.  5.  3.  0. 11.  2. 11.  8.  3.  8.  2.  2. 10.  7.  7.  1.  3. 11.\n",
      "  8.  2.  1.  8.  3. 11.  6. 11.  0.  5.  4. 11.  0. 11.  1.  5. 11.  8.\n",
      " 11.  0.  7.  5.  9. 11. 11.  8. 10.  5.  6.  0.  8.  2. 10.  8.  1.  8.\n",
      "  4.  8.  3.  0.  2.  5.  8.  2.  7. 11.]\n"
     ]
    }
   ],
   "source": [
    "#Group_Assignment_Indices for Optimum Clusters\n",
    "print(\"Group_Assignment_Indices for Clusters K = 10:\")\n",
    "print(\"Length of Predictions :\", len(y_predict_list[10]))\n",
    "print(y_predict_list[10][0:100])"
   ]
  },
  {
   "cell_type": "code",
   "execution_count": 17,
   "metadata": {},
   "outputs": [
    {
     "data": {
      "image/png": "[encoded data removed]",
      "text/plain": [
       "<Figure size 720x648 with 11 Axes>"
      ]
     },
     "metadata": {
      "needs_background": "light"
     },
     "output_type": "display_data"
    }
   ],
   "source": [
    "# Dislay the all images of Centroids when K is 10:\n",
    "centroids = centroids_list[11-k_init]\n",
    "centroids = centroids.reshape(centroids.shape[0],28,28)\n",
    "centroids = centroids * 255\n",
    "plt.figure(figsize = (10,9))\n",
    "#bottom = 0.35\n",
    "for i in range(centroids.shape[0]):\n",
    "# plt.subplots_adjust(bottom)\n",
    " plt.subplot(4,4,i+1)\n",
    " #plt.title(\"Number:{}\".format(reference_labels[i]),fontsize = 17)\n",
    " plt.imshow(centroids[i],cmap=plt.cm.gray)"
   ]
  }
 ],
 "metadata": {
  "kernelspec": {
   "display_name": "Python 3",
   "language": "python",
   "name": "python3"
  },
  "language_info": {
   "codemirror_mode": {
    "name": "ipython",
    "version": 3
   },
   "file_extension": ".py",
   "mimetype": "text/x-python",
   "name": "python",
   "nbconvert_exporter": "python",
   "pygments_lexer": "ipython3",
   "version": "3.7.4"
  }
 },
 "nbformat": 4,
 "nbformat_minor": 2
}
