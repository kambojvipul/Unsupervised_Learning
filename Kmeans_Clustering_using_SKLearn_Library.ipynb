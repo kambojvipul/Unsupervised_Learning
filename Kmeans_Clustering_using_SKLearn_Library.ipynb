{
 "cells": [
  {
   "cell_type": "markdown",
   "metadata": {},
   "source": [
    "Assignment 1 Part - 3.1 using SKLearn Library"
   ]
  },
  {
   "cell_type": "code",
   "execution_count": 1,
   "metadata": {},
   "outputs": [
    {
     "name": "stdout",
     "output_type": "stream",
     "text": [
      "INFO:tensorflow:Enabling eager execution\n",
      "INFO:tensorflow:Enabling v2 tensorshape\n",
      "INFO:tensorflow:Enabling resource variables\n",
      "INFO:tensorflow:Enabling tensor equality\n",
      "INFO:tensorflow:Enabling control flow v2\n"
     ]
    }
   ],
   "source": [
    "#Download All Necessary Python Package required for K Means Clustering\n",
    "import numpy as np\n",
    "\n",
    "from sklearn.cluster import MiniBatchKMeans\n",
    "from sklearn.cluster import KMeans\n",
    "from sklearn.metrics import silhouette_samples, silhouette_score\n",
    "\n",
    "import matplotlib.pyplot as plt\n",
    "import tensorflow as tf\n",
    "from tensorflow.keras.datasets import mnist\n",
    "\n",
    "import matplotlib.cm as cm"
   ]
  },
  {
   "cell_type": "code",
   "execution_count": 5,
   "metadata": {},
   "outputs": [],
   "source": [
    "#Load MNIST data from tensorflow datasets\n",
    "(x, _), (_, _) = mnist.load_data()"
   ]
  },
  {
   "cell_type": "code",
   "execution_count": 6,
   "metadata": {},
   "outputs": [
    {
     "data": {
      "text/plain": [
       "<matplotlib.image.AxesImage at 0x14d682b90>"
      ]
     },
     "execution_count": 6,
     "metadata": {},
     "output_type": "execute_result"
    },
    {
     "data": {
      "image/png": "[encoded data removed]",
      "text/plain": [
       "<Figure size 432x288 with 1 Axes>"
      ]
     },
     "metadata": {
      "needs_background": "light"
     },
     "output_type": "display_data"
    }
   ],
   "source": [
    "#Visualize One Image only\n",
    "plt.imshow(x[0,:,:],cmap=plt.cm.gray)"
   ]
  },
  {
   "cell_type": "code",
   "execution_count": 5,
   "metadata": {},
   "outputs": [
    {
     "name": "stdout",
     "output_type": "stream",
     "text": [
      "Training:  (60000, 28, 28)\n",
      "Type of Data: <class 'numpy.ndarray'>\n"
     ]
    }
   ],
   "source": [
    "# Print shape of dataset\n",
    "print(\"Training: \",x.shape)\n",
    "# Print type of Data\n",
    "print(\"Type of Data:\", type(x))"
   ]
  },
  {
   "cell_type": "code",
   "execution_count": 6,
   "metadata": {},
   "outputs": [
    {
     "name": "stdout",
     "output_type": "stream",
     "text": [
      "(60000, 784)\n"
     ]
    }
   ],
   "source": [
    "# Reshape the dataset from (60000, 28, 28) to (60000, 746)\n",
    "x=x.reshape(60000,28*28)\n",
    "print(x.shape)"
   ]
  },
  {
   "cell_type": "code",
   "execution_count": 7,
   "metadata": {},
   "outputs": [],
   "source": [
    "#Normalize Image Pixel value by dividing 255. So variance would be between 0.0 to 1.0\n",
    "x = x.astype(np.float32) / 255."
   ]
  },
  {
   "cell_type": "code",
   "execution_count": 8,
   "metadata": {},
   "outputs": [
    {
     "name": "stdout",
     "output_type": "stream",
     "text": [
      "1.0\n"
     ]
    }
   ],
   "source": [
    "#Checking Maximum Vale\n",
    "print(np.amax(x[0,:]))"
   ]
  },
  {
   "cell_type": "code",
   "execution_count": 9,
   "metadata": {},
   "outputs": [],
   "source": [
    "# Took only 30000 images out of 60000 as my laptop is not able to run on 60000, taking infinite time and heating\n",
    "z = x[0:30000,:]"
   ]
  },
  {
   "cell_type": "code",
   "execution_count": 10,
   "metadata": {},
   "outputs": [
    {
     "name": "stdout",
     "output_type": "stream",
     "text": [
      "Number of Cluster : 2\n",
      "Inertia : 1493239.0\n",
      "Silhouette Score : 0.085093334\n",
      "Number of Cluster : 3\n",
      "Inertia : 1420653.2\n",
      "Silhouette Score : 0.05606899\n",
      "Number of Cluster : 4\n",
      "Inertia : 1383574.5\n",
      "Silhouette Score : 0.033774935\n",
      "Number of Cluster : 5\n",
      "Inertia : 1341052.4\n",
      "Silhouette Score : 0.04385327\n",
      "Number of Cluster : 6\n",
      "Inertia : 1283043.2\n",
      "Silhouette Score : 0.06618128\n",
      "Number of Cluster : 7\n",
      "Inertia : 1264167.2\n",
      "Silhouette Score : 0.06620355\n",
      "Number of Cluster : 8\n",
      "Inertia : 1256124.8\n",
      "Silhouette Score : 0.06761251\n",
      "Number of Cluster : 9\n",
      "Inertia : 1207876.8\n",
      "Silhouette Score : 0.05321314\n",
      "Number of Cluster : 10\n",
      "Inertia : 1200127.5\n",
      "Silhouette Score : 0.06541456\n",
      "Number of Cluster : 11\n",
      "Inertia : 1182236.2\n",
      "Silhouette Score : 0.06678278\n",
      "Number of Cluster : 12\n",
      "Inertia : 1219460.0\n",
      "Silhouette Score : 0.049817376\n",
      "Number of Cluster : 13\n",
      "Inertia : 1139905.2\n",
      "Silhouette Score : 0.058979895\n",
      "Number of Cluster : 14\n",
      "Inertia : 1140795.9\n",
      "Silhouette Score : 0.058533985\n",
      "Number of Cluster : 15\n",
      "Inertia : 1124496.6\n",
      "Silhouette Score : 0.05831238\n",
      "Number of Cluster : 16\n",
      "Inertia : 1115073.1\n",
      "Silhouette Score : 0.063241184\n",
      "Number of Cluster : 17\n",
      "Inertia : 1099939.8\n",
      "Silhouette Score : 0.060750846\n",
      "Number of Cluster : 18\n",
      "Inertia : 1092073.2\n",
      "Silhouette Score : 0.06275861\n",
      "Number of Cluster : 19\n",
      "Inertia : 1076603.0\n",
      "Silhouette Score : 0.0630762\n"
     ]
    }
   ],
   "source": [
    "# Now implement K means clustering on MNIST Datasets for range of cluster from 2 to 30\n",
    "k_max = 20 # Maximum value of Clusters\n",
    "k_init = 2 # Minimum Value of Clusters\n",
    "\n",
    "inertia_list = [] # List of J_clust for each number of clusters \n",
    "silhouette_list = [] #List of silhouette score for each number of clusters\n",
    "centroids_list = [] # List of K Nos. Centroids for each number of clusters\n",
    "silhouette_values_list = []\n",
    "clusters_labels_list = [] \n",
    "y_predict_list = [] # List of group assignment indices for each number of clusters\n",
    "#clusters_init = 'k-means++' # Initialization of Clusters choses as k-means++\n",
    "\n",
    "for i in range(k_init, k_max): # iterate over range of clusters and save results in lists\n",
    "    # Initialize the Random Clusters from MNIST Datasets\n",
    "    random_indices = np.random.randint(low=0, high=z.shape[0], size=i, dtype=int)\n",
    "    clusters_init = z[random_indices]\n",
    "    #Pass the Parameters in MiniBatchKmeans Clustering\n",
    "    minibatch_kmeans = MiniBatchKMeans(n_clusters=i,init=clusters_init ,max_iter=100,n_init=1)\n",
    "    minibatch_kmeans.fit(z) # Run the K-means clustering on Mnist Dataset\n",
    "    \n",
    "    y_predict_list.append(minibatch_kmeans.predict(z)) # Predcitions of Labels\n",
    "    # Calculte the J_Cluster / Composite Squared Distance between data points and centroids for all data vectors\n",
    "    inertia = minibatch_kmeans.inertia_ \n",
    "    inertia_list.append(inertia) # Appned the J_Clust of this clusters in List\n",
    "    # Calculate and save Clusters Centroid in list\n",
    "    centroids = minibatch_kmeans.cluster_centers_\n",
    "    centroids_list.append(centroids) \n",
    "\n",
    "    print(\"Number of Cluster :\",i)\n",
    "    print(\"J_clust / Inertia :\",inertia)"
   ]
  },
  {
   "cell_type": "code",
   "execution_count": 17,
   "metadata": {
    "scrolled": true
   },
   "outputs": [
    {
     "data": {
      "image/png": "[encoded data removed]",
      "text/plain": [
       "<Figure size 1296x504 with 1 Axes>"
      ]
     },
     "metadata": {
      "needs_background": "light"
     },
     "output_type": "display_data"
    }
   ],
   "source": [
    "# Now plot the J_Clust / Inertia which a composite squared distance between datapoints and centroids\n",
    "fig, ax1 = plt.subplots(1, 1)\n",
    "fig.set_size_inches(18, 7)\n",
    "plt.plot(range(k_init, k_max), inertia_list)\n",
    "plt.title('Elbow Method')\n",
    "plt.xlabel('Number of clusters')\n",
    "plt.ylabel('J_clust / Inertia')\n",
    "xaxis=np.arange(k_init, k_max, 1, dtype=int)\n",
    "ax1.set_xticks(xaxis)\n",
    "plt.show()"
   ]
  },
  {
   "cell_type": "code",
   "execution_count": 12,
   "metadata": {},
   "outputs": [
    {
     "name": "stdout",
     "output_type": "stream",
     "text": [
      "Group_Assignment_Indices for Clusters K = 10:\n",
      "Length of Predictions : 30000\n",
      "[ 7  6 10 11  5  1 11  7 11  8  4 11  4  1 11  8  2  8  1  8 10  6  8 11\n",
      "  1  4  5  4  9  1 11  7  1  8  7 11  1  6  5  1 11  7  5  5 11  5  5  7\n",
      "  5  7  4  0  9 11  9  8  6  8 10 11 10  1  1  6  9 11  1 11  4  6 11  8\n",
      " 11  1  4  7  4 11 11  8  4  7  2  1  9  7  4  8  0  8  2  8  5  1  8  6\n",
      "  5  8  4 11]\n"
     ]
    }
   ],
   "source": [
    "#Group_Assignment_Indices for Optimum Clusters\n",
    "print(\"Group_Assignment_Indices for Clusters K = 10:\")\n",
    "print(\"Length of Predictions :\", len(y_predict_list[10]))\n",
    "print(y_predict_list[10][0:100])"
   ]
  },
  {
   "cell_type": "code",
   "execution_count": 25,
   "metadata": {},
   "outputs": [
    {
     "data": {
      "image/png": "[encoded data removed]",
      "text/plain": [
       "<Figure size 720x648 with 11 Axes>"
      ]
     },
     "metadata": {
      "needs_background": "light"
     },
     "output_type": "display_data"
    }
   ],
   "source": [
    "# Dislay the all images of Centroids when K is 10:\n",
    "centroids = centroids_list[11-k_init]\n",
    "centroids = centroids.reshape(centroids.shape[0],28,28)\n",
    "centroids = centroids * 255\n",
    "plt.figure(figsize = (10,9))\n",
    "#bottom = 0.35\n",
    "for i in range(centroids.shape[0]):\n",
    "# plt.subplots_adjust(bottom)\n",
    " plt.subplot(4,4,i+1)\n",
    " #plt.title(\"Number:{}\".format(reference_labels[i]),fontsize = 17)\n",
    " plt.imshow(centroids[i],cmap=plt.cm.gray)"
   ]
  }
 ],
 "metadata": {
  "kernelspec": {
   "display_name": "Python 3",
   "language": "python",
   "name": "python3"
  },
  "language_info": {
   "codemirror_mode": {
    "name": "ipython",
    "version": 3
   },
   "file_extension": ".py",
   "mimetype": "text/x-python",
   "name": "python",
   "nbconvert_exporter": "python",
   "pygments_lexer": "ipython3",
   "version": "3.7.4"
  }
 },
 "nbformat": 4,
 "nbformat_minor": 2
}
